{
  "nbformat": 4,
  "nbformat_minor": 0,
  "metadata": {
    "colab": {
      "provenance": [],
      "include_colab_link": true
    },
    "kernelspec": {
      "name": "python3",
      "display_name": "Python 3"
    },
    "language_info": {
      "name": "python"
    }
  },
  "cells": [
    {
      "cell_type": "markdown",
      "metadata": {
        "id": "view-in-github",
        "colab_type": "text"
      },
      "source": [
        "<a href=\"https://colab.research.google.com/github/mohsenpartovi73/CNN_pistachio/blob/main/pistachio.ipynb\" target=\"_parent\"><img src=\"https://colab.research.google.com/assets/colab-badge.svg\" alt=\"Open In Colab\"/></a>"
      ]
    },
    {
      "cell_type": "code",
      "execution_count": 1,
      "metadata": {
        "colab": {
          "base_uri": "https://localhost:8080/"
        },
        "id": "Ujicc8mBgtKb",
        "outputId": "c5c24536-a66b-4608-f28b-ac18a19dd0c8"
      },
      "outputs": [
        {
          "output_type": "stream",
          "name": "stdout",
          "text": [
            "Downloading from https://www.kaggle.com/api/v1/datasets/download/muratkokludataset/pistachio-image-dataset?dataset_version_number=1...\n"
          ]
        },
        {
          "output_type": "stream",
          "name": "stderr",
          "text": [
            "100%|██████████| 26.7M/26.7M [00:00<00:00, 62.6MB/s]"
          ]
        },
        {
          "output_type": "stream",
          "name": "stdout",
          "text": [
            "Extracting files...\n"
          ]
        },
        {
          "output_type": "stream",
          "name": "stderr",
          "text": [
            "\n"
          ]
        },
        {
          "output_type": "stream",
          "name": "stdout",
          "text": [
            "Path to dataset files: /root/.cache/kagglehub/datasets/muratkokludataset/pistachio-image-dataset/versions/1\n"
          ]
        }
      ],
      "source": [
        "import torch\n",
        "import torchvision\n",
        "import torchvision.transforms as transforms\n",
        "import kagglehub\n",
        "\n",
        "# Download latest version\n",
        "path = kagglehub.dataset_download(\"muratkokludataset/pistachio-image-dataset\")\n",
        "\n",
        "print(\"Path to dataset files:\", path)"
      ]
    },
    {
      "cell_type": "code",
      "source": [
        "import os\n",
        "import shutil\n",
        "import random\n",
        "\n",
        "# def move_random_images(source_folder, destination_folder, percentage=0.2):\n",
        "#     if not os.path.exists(destination_folder):\n",
        "#         os.makedirs(destination_folder)\n",
        "\n",
        "#     all_images = [f for f in os.listdir(source_folder)]\n",
        "\n",
        "#     num_images_to_move = int(len(all_images) * percentage)\n",
        "\n",
        "#     selected_images = random.sample(all_images, num_images_to_move)\n",
        "\n",
        "#     for image in selected_images:\n",
        "#         source_path = os.path.join(source_folder, image)\n",
        "#         destination_path = os.path.join(destination_folder, image)\n",
        "#         shutil.move(source_path, destination_path)\n",
        "\n",
        "#     print(f\"moved {num_images_to_move} images to {destination_folder}\")\n",
        "\n",
        "# source_folder =  r'/root/.cache/kagglehub/datasets/muratkokludataset/pistachio-image-dataset/versions/1/Pistachio_Image_Dataset/Pistachio_Image_Dataset/siirt'\n",
        "# destination_folder =  r'/root/.cache/kagglehub/datasets/muratkokludataset/pistachio-image-dataset/versions/1/Pistachio_Image_Dataset/test/siirt'\n",
        "\n",
        "# move_random_images(source_folder, destination_folder)\n"
      ],
      "metadata": {
        "colab": {
          "base_uri": "https://localhost:8080/"
        },
        "id": "GIUNsmaIPD2R",
        "outputId": "30c6fd09-6a69-42f7-a289-5862d6fce87a"
      },
      "execution_count": 3,
      "outputs": [
        {
          "output_type": "stream",
          "name": "stdout",
          "text": [
            "moved 183 images to /root/.cache/kagglehub/datasets/muratkokludataset/pistachio-image-dataset/versions/1/Pistachio_Image_Dataset/test/siirt\n"
          ]
        }
      ]
    },
    {
      "cell_type": "code",
      "source": [
        "\n",
        "\n",
        "import torch.utils.data.dataloader\n",
        "from torch.utils.data import Dataset,DataLoader\n",
        "import numpy as np\n",
        "import torch.nn as nn\n",
        "import torchvision\n",
        "import torchvision.transforms as transforms\n",
        "import matplotlib.pyplot as plt\n",
        "import cv2 as cv\n",
        "from torchvision import datasets, models, transforms\n",
        "import torch.nn.functional as F\n",
        "import pandas as pd\n",
        "from PIL import Image\n",
        "from torch.optim import lr_scheduler\n",
        "import os\n",
        "import random\n",
        "\n",
        "Train_path = r'/root/.cache/kagglehub/datasets/muratkokludataset/pistachio-image-dataset/versions/1/Pistachio_Image_Dataset/Pistachio_Image_Dataset'\n",
        "Test_path = r'/root/.cache/kagglehub/datasets/muratkokludataset/pistachio-image-dataset/versions/1/Pistachio_Image_Dataset/test'\n",
        "transform = transforms.Compose([transforms.Resize((227,227)),transforms.ToTensor()\n",
        "                               ,transforms.Normalize((0.5,0.5,0.5),(0.5,0.5,0.5)) ])\n"
      ],
      "metadata": {
        "id": "StLPkJJmHFw9"
      },
      "execution_count": 11,
      "outputs": []
    },
    {
      "cell_type": "code",
      "source": [
        "import os\n",
        "import shutil\n",
        "import random\n",
        "shutil.rmtree('/root/.cache/kagglehub/datasets/muratkokludataset/pistachio-image-dataset/versions/1/Pistachio_Image_Dataset/Pistachio_Image_Dataset/.ipynb_checkpoints')\n",
        "# def move_random_images(source_folder, destination_folder, percentage=0.2):\n",
        "#     if not os.path.exists(destination_folder):\n",
        "#         os.makedirs(destination_folder)\n",
        "\n",
        "#     all_images = [f for f in os.listdir(source_folder)]\n",
        "\n",
        "#     num_images_to_move = int(len(all_images) * percentage)\n",
        "\n",
        "#     selected_images = random.sample(all_images, num_images_to_move)\n",
        "\n",
        "#     for image in selected_images:\n",
        "#         source_path = os.path.join(source_folder, image)\n",
        "#         destination_path = os.path.join(destination_folder, image)\n",
        "#         shutil.move(source_path, destination_path)\n",
        "\n",
        "#     print(f\"moved {num_images_to_move} images to {destination_folder}\")\n",
        "\n",
        "# source_folder =  r'/root/.cache/kagglehub/datasets/muratkokludataset/pistachio-image-dataset/versions/1/Pistachio_Image_Dataset/Pistachio_Image_Dataset/siirt'\n",
        "# destination_folder =  r'/root/.cache/kagglehub/datasets/muratkokludataset/pistachio-image-dataset/versions/1/Pistachio_Image_Dataset/test/siirt'\n",
        "\n",
        "# move_random_images(source_folder, destination_folder)\n"
      ],
      "metadata": {
        "id": "cj-a0dLvR3Ei"
      },
      "execution_count": 10,
      "outputs": []
    },
    {
      "cell_type": "code",
      "source": [
        "\n",
        "batch_size = 4\n",
        "trainset = torchvision.datasets.ImageFolder(root=Train_path,transform=transform)\n",
        "trainloader = torch.utils.data.DataLoader(dataset=trainset,batch_size=batch_size,shuffle=True)\n",
        "\n",
        "testset = torchvision.datasets.ImageFolder(root=Test_path,transform=transform)\n",
        "testloader = torch.utils.data.DataLoader(dataset=testset,batch_size=batch_size,shuffle=True)\n",
        "\n",
        "\n",
        "classes = ('kirmiz','siirt')"
      ],
      "metadata": {
        "id": "9m2Tcu-JgvDC"
      },
      "execution_count": 16,
      "outputs": []
    },
    {
      "cell_type": "code",
      "source": [
        "import matplotlib.pyplot as plt\n",
        "import numpy as np\n",
        "\n",
        "# functions to show an image\n",
        "\n",
        "\n",
        "def imshow(img):\n",
        "    img = img / 2 + 0.5     # unnormalize\n",
        "    npimg = img.numpy()\n",
        "    plt.imshow(np.transpose(npimg, (1, 2, 0)))\n",
        "    plt.show()\n",
        "\n",
        "\n",
        "# get some random training images\n",
        "dataiter = iter(testloader)\n",
        "images, labels = next(dataiter)\n",
        "\n",
        "# show images\n",
        "imshow(torchvision.utils.make_grid(images))\n",
        "# print labels\n",
        "print(' '.join(f'{classes[labels[j]]:5s}' for j in range(batch_size)))"
      ],
      "metadata": {
        "id": "KCaEWOo6hKLT",
        "colab": {
          "base_uri": "https://localhost:8080/",
          "height": 207
        },
        "outputId": "ccc69a09-6c12-462f-d6c3-f9e91b085bc9"
      },
      "execution_count": 17,
      "outputs": [
        {
          "output_type": "display_data",
          "data": {
            "text/plain": [
              "<Figure size 640x480 with 1 Axes>"
            ],
            "image/png": "[encoded data removed]"
          },
          "metadata": {}
        },
        {
          "output_type": "stream",
          "name": "stdout",
          "text": [
            "siirt siirt kirmiz siirt\n"
          ]
        }
      ]
    },
    {
      "cell_type": "code",
      "source": [
        "class CNN(nn.Module):\n",
        "    def __init__(self):\n",
        "        super(CNN,self).__init__()\n",
        "        self.conv1 = nn.Conv2d(in_channels=3,out_channels=16,kernel_size=3,padding=1)\n",
        "        self.conv2 = nn.Conv2d(in_channels=16,out_channels=32,kernel_size=3,padding=1)\n",
        "        self.pool = nn.MaxPool2d(kernel_size=2,stride=2)\n",
        "        self.fc1 = nn.Linear(100352,128)\n",
        "        self.fc2 = nn.Linear(128,len(classes))\n",
        "\n",
        "\n",
        "    def forward(self,x):\n",
        "        x = self.pool(F.relu(self.conv1(x)))\n",
        "        x = self.pool(F.relu(self.conv2(x)))\n",
        "        x = x.view(x.size(0), -1)\n",
        "        x = F.relu(self.fc1(x))\n",
        "        x = self.fc2(x)\n",
        "        return x\n",
        "\n",
        "net = CNN()"
      ],
      "metadata": {
        "id": "aS2LBjLfgvAE"
      },
      "execution_count": 18,
      "outputs": []
    },
    {
      "cell_type": "code",
      "source": [
        "import torch.optim as optim\n",
        "\n",
        "criterion = nn.CrossEntropyLoss()\n",
        "optimizer = optim.SGD(net.parameters(), lr=0.001)\n",
        "\n",
        "for epoch in range(5):\n",
        "\n",
        "    running_loss = 0.0\n",
        "    for i, data in enumerate(trainloader, 0):\n",
        "        inputs, labels = data\n",
        "\n",
        "        optimizer.zero_grad()\n",
        "\n",
        "        outputs = net(inputs)\n",
        "        loss = criterion(outputs, labels)\n",
        "        loss.backward()\n",
        "        optimizer.step()\n",
        "\n",
        "        running_loss += loss.item()\n",
        "        if (i+1) % 430 == 0:\n",
        "            print (f'Epoch [{epoch+1}/{10}], Step [{i+1}/ {len(trainloader)}], Loss: {loss.item():.4f}')\n",
        "\n",
        "print('Finished Training')"
      ],
      "metadata": {
        "colab": {
          "base_uri": "https://localhost:8080/"
        },
        "id": "JBDx93EAgu6O",
        "outputId": "9e72a691-4f07-4c89-a4f1-e66dc39c715b",
        "collapsed": true
      },
      "execution_count": 19,
      "outputs": [
        {
          "output_type": "stream",
          "name": "stdout",
          "text": [
            "Epoch [1/10], Step [430/ 430], Loss: 0.7230\n",
            "Epoch [2/10], Step [430/ 430], Loss: 0.3645\n",
            "Epoch [3/10], Step [430/ 430], Loss: 0.1368\n",
            "Epoch [4/10], Step [430/ 430], Loss: 0.4752\n",
            "Epoch [5/10], Step [430/ 430], Loss: 0.3674\n",
            "Finished Training\n"
          ]
        }
      ]
    },
    {
      "cell_type": "code",
      "source": [
        "correct = 0\n",
        "total = 0\n",
        "with torch.no_grad():\n",
        "    for data in testloader:\n",
        "        images, labels = data\n",
        "        outputs = net(images)\n",
        "        _, predicted = torch.max(outputs.data, 1)\n",
        "        total += labels.size(0)\n",
        "        correct += (predicted == labels).sum().item()\n",
        "\n",
        "print(f'Accuracy of the network on the length test images: {100 * correct // total} %')"
      ],
      "metadata": {
        "colab": {
          "base_uri": "https://localhost:8080/"
        },
        "id": "sJZ9BxYkQ3tq",
        "outputId": "7e250c71-138b-421e-d712-45e8de4f4ecc"
      },
      "execution_count": 20,
      "outputs": [
        {
          "output_type": "stream",
          "name": "stdout",
          "text": [
            "Accuracy of the network on the length test images: 84 %\n"
          ]
        }
      ]
    },
    {
      "cell_type": "code",
      "source": [
        "# prepare to count predictions for each class\n",
        "correct_pred = {classname: 0 for classname in classes}\n",
        "total_pred = {classname: 0 for classname in classes}\n",
        "# again no gradients needed\n",
        "with torch.no_grad():\n",
        "    for data in testloader:\n",
        "        images, labels = data\n",
        "        outputs = net(images)\n",
        "        _, predictions = torch.max(outputs, 1)\n",
        "        # collect the correct predictions for each class\n",
        "        for label, prediction in zip(labels, predictions):\n",
        "            if label == prediction:\n",
        "                correct_pred[classes[label]] += 1\n",
        "            total_pred[classes[label]] += 1\n",
        "\n",
        "\n",
        "# print accuracy for each class\n",
        "for classname, correct_count in correct_pred.items():\n",
        "    accuracy = 100 * float(correct_count) / total_pred[classname]\n",
        "    print(f'Accuracy for class: {classname:5s} is {accuracy:.1f} %')"
      ],
      "metadata": {
        "id": "LQGAcyebQ3Y9",
        "colab": {
          "base_uri": "https://localhost:8080/"
        },
        "outputId": "46b56036-01c7-49e1-d537-fbd5f5027bed"
      },
      "execution_count": 21,
      "outputs": [
        {
          "output_type": "stream",
          "name": "stdout",
          "text": [
            "Accuracy for class: kirmiz is 86.6 %\n",
            "Accuracy for class: siirt is 82.0 %\n"
          ]
        }
      ]
    },
    {
      "cell_type": "code",
      "source": [
        "# Saving and Testing the Model\n",
        "# Save the trained model\n",
        "torch.save(net.state_dict(), 'pistachio.pt')\n",
        "print(\"Model saved.\")\n",
        "\n",
        "# Load the saved model\n",
        "loaded_model = CNN()\n",
        "loaded_model.load_state_dict(torch.load('pistachio.pt'))\n",
        "loaded_model = loaded_model\n",
        "loaded_model.eval()"
      ],
      "metadata": {
        "id": "xv5E4JbMgurJ",
        "colab": {
          "base_uri": "https://localhost:8080/"
        },
        "outputId": "cdde64d4-8ed6-44bb-a881-e45768db8451"
      },
      "execution_count": 23,
      "outputs": [
        {
          "output_type": "stream",
          "name": "stdout",
          "text": [
            "Model saved.\n"
          ]
        },
        {
          "output_type": "stream",
          "name": "stderr",
          "text": [
            "<ipython-input-23-b54c2c6c0a9f>:8: FutureWarning: You are using `torch.load` with `weights_only=False` (the current default value), which uses the default pickle module implicitly. It is possible to construct malicious pickle data which will execute arbitrary code during unpickling (See https://github.com/pytorch/pytorch/blob/main/SECURITY.md#untrusted-models for more details). In a future release, the default value for `weights_only` will be flipped to `True`. This limits the functions that could be executed during unpickling. Arbitrary objects will no longer be allowed to be loaded via this mode unless they are explicitly allowlisted by the user via `torch.serialization.add_safe_globals`. We recommend you start setting `weights_only=True` for any use case where you don't have full control of the loaded file. Please open an issue on GitHub for any issues related to this experimental feature.\n",
            "  loaded_model.load_state_dict(torch.load('pistachio.pt'))\n"
          ]
        },
        {
          "output_type": "execute_result",
          "data": {
            "text/plain": [
              "CNN(\n",
              "  (conv1): Conv2d(3, 16, kernel_size=(3, 3), stride=(1, 1), padding=(1, 1))\n",
              "  (conv2): Conv2d(16, 32, kernel_size=(3, 3), stride=(1, 1), padding=(1, 1))\n",
              "  (pool): MaxPool2d(kernel_size=2, stride=2, padding=0, dilation=1, ceil_mode=False)\n",
              "  (fc1): Linear(in_features=100352, out_features=128, bias=True)\n",
              "  (fc2): Linear(in_features=128, out_features=2, bias=True)\n",
              ")"
            ]
          },
          "metadata": {},
          "execution_count": 23
        }
      ]
    },
    {
      "cell_type": "code",
      "source": [
        "im = Image.open(r'/content/sample_data/7.jpg')\n",
        "import torch\n",
        "from torchvision import transforms\n",
        "from PIL import Image\n",
        "ttransform = transforms.Compose([transforms.Resize((227,227)),transforms.ToTensor()\n",
        "                               ,transforms.Normalize((0.5,0.5,0.5),(0.5,0.5,0.5)) ])\n",
        "# Function to load and preprocess the image\n",
        "def load_and_preprocess_image(img_path):\n",
        "    img = Image.open(img_path)  # Load the image\n",
        "    img_tensor = ttransform(img)  # Apply preprocessing\n",
        "    img_tensor = img_tensor.unsqueeze(0)  # Add batch dimension\n",
        "    return img_tensor\n",
        "\n",
        "# Path to your downloaded image\n",
        "img_path = '/content/sample_data/6.jpg'\n",
        "\n",
        "# Preprocess the image\n",
        "preprocessed_image = load_and_preprocess_image(img_path)\n",
        "# Pass the input image through the loaded model\n",
        "with torch.no_grad():\n",
        "    output = loaded_model(preprocessed_image)\n",
        "# Get the predicted class\n",
        "_, predicted_class = torch.max(output.data, 1)\n",
        "\n",
        "# Map the predicted class index to the corresponding label\n",
        "class_label_map = {0: 'kirmiz', 1: 'siirt'}\n",
        "predicted_label = class_label_map[predicted_class.item()]\n",
        "print('Predicted label:', predicted_label)\n",
        "\n",
        "\n"
      ],
      "metadata": {
        "id": "f247bj2Ugun-",
        "colab": {
          "base_uri": "https://localhost:8080/"
        },
        "outputId": "ebae8b88-585d-458e-d6d1-0e56ecfaf9f0"
      },
      "execution_count": 60,
      "outputs": [
        {
          "output_type": "stream",
          "name": "stdout",
          "text": [
            "Predicted label: kirmiz\n"
          ]
        }
      ]
    }
  ]
}